{
 "cells": [
  {
   "cell_type": "code",
   "execution_count": 1,
   "metadata": {},
   "outputs": [],
   "source": [
    "import numpy as np"
   ]
  },
  {
   "cell_type": "markdown",
   "metadata": {},
   "source": [
    "## Allianz Ausbildingsversicherung"
   ]
  },
  {
   "cell_type": "code",
   "execution_count": 40,
   "metadata": {},
   "outputs": [],
   "source": [
    "# 11 1996, monatliche einzahlung\n",
    "\n",
    "dm = np.array(1/1.95583)\n",
    "waehr = np.array([dm, dm, 1, 1,1, 1,1 , 1,1,1,1,1,1,1])\n",
    "einz = np.array([150.1, 175.9,   97.27 , 117.04, 121.72, 126.59, 131.65, 136.92, 142.39, 148.09, 154.01, 160.18, 166.58, 173.25])\n",
    "zeit = np.array([3, 2, 2, 1, 1, 1, 2,  2, 1, 1, 2, 1,1, 3])#in jahre\n",
    "zins = 0.04"
   ]
  },
  {
   "cell_type": "code",
   "execution_count": 41,
   "metadata": {},
   "outputs": [
    {
     "data": {
      "text/plain": [
       "23"
      ]
     },
     "execution_count": 41,
     "metadata": {},
     "output_type": "execute_result"
    }
   ],
   "source": [
    "np.sum(zeit)"
   ]
  },
  {
   "cell_type": "code",
   "execution_count": 42,
   "metadata": {},
   "outputs": [],
   "source": [
    "eingezahlt = einz*waehr*zeit*12"
   ]
  },
  {
   "cell_type": "code",
   "execution_count": 43,
   "metadata": {},
   "outputs": [
    {
     "data": {
      "text/plain": [
       "35425.76661488984"
      ]
     },
     "execution_count": 43,
     "metadata": {},
     "output_type": "execute_result"
    }
   ],
   "source": [
    "np.sum(eingezahlt)"
   ]
  },
  {
   "cell_type": "code",
   "execution_count": 56,
   "metadata": {},
   "outputs": [
    {
     "data": {
      "text/plain": [
       "52790.13874985782"
      ]
     },
     "execution_count": 56,
     "metadata": {},
     "output_type": "execute_result"
    }
   ],
   "source": [
    "total = 0\n",
    "#zinseszins \n",
    "for i in range(len(zeit)):\n",
    "    for j in range(zeit[i]):#jahre\n",
    "        total *= 1+zins\n",
    "        total += 12*einz[i] * waehr[i]\n",
    "        #print(total)\n",
    "total\n",
    "            \n",
    "            \n",
    "        \n"
   ]
  },
  {
   "cell_type": "code",
   "execution_count": 58,
   "metadata": {},
   "outputs": [
    {
     "data": {
      "text/plain": [
       "48691.685190831515"
      ]
     },
     "execution_count": 58,
     "metadata": {},
     "output_type": "execute_result"
    }
   ],
   "source": [
    "#ohne zinsenszins\n",
    "total = 0\n",
    "zinsen = 0 \n",
    "for i in range(len(zeit)):\n",
    "    for j in range(zeit[i]):#jahre\n",
    "        zinsen += total * zins\n",
    "        total += 12*einz[i] * waehr[i]\n",
    "        #print(total)\n",
    "total+zinsen"
   ]
  },
  {
   "cell_type": "code",
   "execution_count": 64,
   "metadata": {},
   "outputs": [
    {
     "data": {
      "text/plain": [
       "49092.37738419537"
      ]
     },
     "execution_count": 64,
     "metadata": {},
     "output_type": "execute_result"
    }
   ],
   "source": [
    "total = 0\n",
    "zinsen = 0\n",
    "\n",
    "for i in range(len(zeit)):\n",
    "    for j in range(zeit[i]):#jahre\n",
    "        \n",
    "        for k in range(1,13):\n",
    "            zinsen += total * 0.0032737398\n",
    "            total += einz[i] * waehr[i]\n",
    "        #print(total)\n",
    "total+zinsen\n"
   ]
  },
  {
   "cell_type": "code",
   "execution_count": 66,
   "metadata": {},
   "outputs": [],
   "source": [
    "#echtes total: 43848 garantiert"
   ]
  },
  {
   "cell_type": "code",
   "execution_count": null,
   "metadata": {},
   "outputs": [],
   "source": [
    "\n"
   ]
  },
  {
   "cell_type": "markdown",
   "metadata": {},
   "source": [
    "## Mama Lebensversicherung"
   ]
  },
  {
   "cell_type": "code",
   "execution_count": 73,
   "metadata": {},
   "outputs": [
    {
     "data": {
      "text/plain": [
       "167182.77373601482"
      ]
     },
     "execution_count": 73,
     "metadata": {},
     "output_type": "execute_result"
    }
   ],
   "source": [
    "#anlage (lebenversicherung für etwa 13€ nicht mit gerechnet)\n",
    "betrag = 497.73\n",
    "#start: 2002 02 Februar\n",
    "zins = 0.034\n",
    "\n",
    "tot = 0\n",
    "for i in range(20):\n",
    "    tot *= 1+zins\n",
    "    tot += betrag*12\n",
    "tot\n"
   ]
  },
  {
   "cell_type": "code",
   "execution_count": 71,
   "metadata": {},
   "outputs": [
    {
     "data": {
      "text/plain": [
       "101536.92"
      ]
     },
     "execution_count": 71,
     "metadata": {},
     "output_type": "execute_result"
    }
   ],
   "source": [
    "betrag*12*17"
   ]
  },
  {
   "cell_type": "code",
   "execution_count": 79,
   "metadata": {},
   "outputs": [
    {
     "data": {
      "text/plain": [
       "1.0266666666666666"
      ]
     },
     "execution_count": 79,
     "metadata": {},
     "output_type": "execute_result"
    }
   ],
   "source": []
  },
  {
   "cell_type": "code",
   "execution_count": null,
   "metadata": {},
   "outputs": [],
   "source": []
  }
 ],
 "metadata": {
  "anaconda-cloud": {},
  "kernelspec": {
   "display_name": "Python [default]",
   "language": "python",
   "name": "python3"
  },
  "language_info": {
   "codemirror_mode": {
    "name": "ipython",
    "version": 3
   },
   "file_extension": ".py",
   "mimetype": "text/x-python",
   "name": "python",
   "nbconvert_exporter": "python",
   "pygments_lexer": "ipython3",
   "version": "3.5.2"
  }
 },
 "nbformat": 4,
 "nbformat_minor": 2
}
