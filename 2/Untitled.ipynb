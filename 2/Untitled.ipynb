{
 "cells": [
  {
   "cell_type": "code",
   "execution_count": 2,
   "metadata": {},
   "outputs": [],
   "source": [
    "import numpy as np"
   ]
  },
  {
   "cell_type": "code",
   "execution_count": 33,
   "metadata": {},
   "outputs": [
    {
     "name": "stdout",
     "output_type": "stream",
     "text": [
      "[[ 0  1  2  3  4  5  6  7  8  9 10 11 12 13 14 15 16]\n",
      " [ 0  1  2  3  4  5  6  7  8  9 10 11 12 13 14 15 16]\n",
      " [ 0  1  2  3  4  5  6  7  8  9 10 11 12 13 14 15 16]\n",
      " [ 0  1  2  3  4  5  6  7  8  9 10 11 12 13 14 15 16]\n",
      " [ 0  1  2  3  4  5  6  7  8  9 10 11 12 13 14 15 16]\n",
      " [ 0  1  2  3  4  5  6  7  8  9 10 11 12 13 14 15 16]\n",
      " [ 0  1  2  3  4  5  6  7  8  9 10 11 12 13 14 15 16]\n",
      " [ 0  1  2  3  4  5  6  7  8  9 10 11 12 13 14 15 16]\n",
      " [ 0  1  2  3  4  5  6  7  8  9 10 11 12 13 14 15 16]\n",
      " [ 0  1  2  3  4  5  6  7  8  9 10 11 12 13 14 15 16]\n",
      " [ 0  1  2  3  4  5  6  7  8  9 10 11 12 13 14 15 16]\n",
      " [ 0  1  2  3  4  5  6  7  8  9 10 11 12 13 14 15 16]\n",
      " [ 0  1  2  3  4  5  6  7  8  9 10 11 12 13 14 15 16]\n",
      " [ 0  1  2  3  4  5  6  7  8  9 10 11 12 13 14 15 16]\n",
      " [ 0  1  2  3  4  5  6  7  8  9 10 11 12 13 14 15 16]\n",
      " [ 0  1  2  3  4  5  6  7  8  9 10 11 12 13 14 15 16]\n",
      " [ 0  1  2  3  4  5  6  7  8  9 10 11 12 13 14 15 16]]\n",
      "[[ 0  0  0  0  0  0  0  0  0  0  0  0  0  0  0  0  0]\n",
      " [ 1  1  1  1  1  1  1  1  1  1  1  1  1  1  1  1  1]\n",
      " [ 2  2  2  2  2  2  2  2  2  2  2  2  2  2  2  2  2]\n",
      " [ 3  3  3  3  3  3  3  3  3  3  3  3  3  3  3  3  3]\n",
      " [ 4  4  4  4  4  4  4  4  4  4  4  4  4  4  4  4  4]\n",
      " [ 5  5  5  5  5  5  5  5  5  5  5  5  5  5  5  5  5]\n",
      " [ 6  6  6  6  6  6  6  6  6  6  6  6  6  6  6  6  6]\n",
      " [ 7  7  7  7  7  7  7  7  7  7  7  7  7  7  7  7  7]\n",
      " [ 8  8  8  8  8  8  8  8  8  8  8  8  8  8  8  8  8]\n",
      " [ 9  9  9  9  9  9  9  9  9  9  9  9  9  9  9  9  9]\n",
      " [10 10 10 10 10 10 10 10 10 10 10 10 10 10 10 10 10]\n",
      " [11 11 11 11 11 11 11 11 11 11 11 11 11 11 11 11 11]\n",
      " [12 12 12 12 12 12 12 12 12 12 12 12 12 12 12 12 12]\n",
      " [13 13 13 13 13 13 13 13 13 13 13 13 13 13 13 13 13]\n",
      " [14 14 14 14 14 14 14 14 14 14 14 14 14 14 14 14 14]\n",
      " [15 15 15 15 15 15 15 15 15 15 15 15 15 15 15 15 15]\n",
      " [16 16 16 16 16 16 16 16 16 16 16 16 16 16 16 16 16]]\n"
     ]
    }
   ],
   "source": [
    "cols = 17\n",
    "rows = 17\n",
    "\n",
    "#arena_x, arena_y = np.linspace(0,cols-1,cols), np.linspace(0,rows-1,rows)\n",
    "arena_x, arena_y = list(range(cols)), list(range(rows))\n",
    "arena_xv, arena_yv = np.meshgrid(arena_x,arena_y)\n",
    "#new_arena = np.meshgrid(arena_x,arena_y)\n",
    "new_arena = zip(*[arena_xv,arena_yv])\n",
    "#print(list(new_arena))\n",
    "print(arena_xv)\n",
    "print(arena_yv)"
   ]
  },
  {
   "cell_type": "code",
   "execution_count": 14,
   "metadata": {},
   "outputs": [],
   "source": [
    "?zip"
   ]
  },
  {
   "cell_type": "code",
   "execution_count": 23,
   "metadata": {},
   "outputs": [
    {
     "data": {
      "text/plain": [
       "[0, 1, 2, 3, 4, 5, 6, 7, 8, 9, 10, 11, 12, 13, 14, 15, 16]"
      ]
     },
     "execution_count": 23,
     "metadata": {},
     "output_type": "execute_result"
    }
   ],
   "source": [
    "list(range(17))"
   ]
  },
  {
   "cell_type": "code",
   "execution_count": 34,
   "metadata": {},
   "outputs": [
    {
     "data": {
      "text/plain": [
       "array([[0., 0., 1.],\n",
       "       [0., 0., 1.],\n",
       "       [1., 1., 1.]])"
      ]
     },
     "execution_count": 34,
     "metadata": {},
     "output_type": "execute_result"
    }
   ],
   "source": [
    "a = np.ones((3,3))\n",
    "a[[[0,1],[0,1]],[[0,0],[1,1]]] = 0\n",
    "a"
   ]
  },
  {
   "cell_type": "code",
   "execution_count": 35,
   "metadata": {},
   "outputs": [
    {
     "name": "stdout",
     "output_type": "stream",
     "text": [
      "[[0 1]\n",
      " [0 1]]\n",
      "[[0 0]\n",
      " [1 1]]\n"
     ]
    }
   ],
   "source": [
    "cols = 2\n",
    "rows = 2\n",
    "\n",
    "#arena_x, arena_y = np.linspace(0,cols-1,cols), np.linspace(0,rows-1,rows)\n",
    "arena_x, arena_y = list(range(cols)), list(range(rows))\n",
    "arena_xv, arena_yv = np.meshgrid(arena_x,arena_y)\n",
    "#new_arena = np.meshgrid(arena_x,arena_y)\n",
    "new_arena = zip(*[arena_xv,arena_yv])\n",
    "#print(list(new_arena))\n",
    "print(arena_xv)\n",
    "print(arena_yv)"
   ]
  },
  {
   "cell_type": "code",
   "execution_count": 40,
   "metadata": {},
   "outputs": [
    {
     "name": "stdout",
     "output_type": "stream",
     "text": [
      "[[0 1]\n",
      " [2 3]]\n"
     ]
    },
    {
     "data": {
      "text/plain": [
       "array([[0., 1., 1.],\n",
       "       [2., 3., 1.],\n",
       "       [1., 1., 1.]])"
      ]
     },
     "execution_count": 40,
     "metadata": {},
     "output_type": "execute_result"
    }
   ],
   "source": [
    "b = np.arange(4).reshape(2,2)\n",
    "print(b)\n",
    "a = np.ones((3,3))\n",
    "a[arena_xv,arena_yv] = b[arena_xv,arena_yv]\n",
    "a"
   ]
  },
  {
   "cell_type": "code",
   "execution_count": 42,
   "metadata": {},
   "outputs": [
    {
     "data": {
      "text/plain": [
       "2"
      ]
     },
     "execution_count": 42,
     "metadata": {},
     "output_type": "execute_result"
    }
   ],
   "source": [
    "(1,2)[1]"
   ]
  },
  {
   "cell_type": "code",
   "execution_count": 47,
   "metadata": {},
   "outputs": [
    {
     "data": {
      "text/plain": [
       "array([4, 3])"
      ]
     },
     "execution_count": 47,
     "metadata": {},
     "output_type": "execute_result"
    }
   ],
   "source": [
    "r = np.subtract([2,2],[0,1])\n",
    "np.add(r,[2,2])\n",
    "#print(list(r))"
   ]
  },
  {
   "cell_type": "code",
   "execution_count": 49,
   "metadata": {},
   "outputs": [
    {
     "data": {
      "text/plain": [
       "(2, 2, 2, 2)"
      ]
     },
     "execution_count": 49,
     "metadata": {},
     "output_type": "execute_result"
    }
   ],
   "source": [
    "2*(2,2)"
   ]
  },
  {
   "cell_type": "code",
   "execution_count": 51,
   "metadata": {},
   "outputs": [
    {
     "data": {
      "text/plain": [
       "array([[1., 1.],\n",
       "       [1., 1.]])"
      ]
     },
     "execution_count": 51,
     "metadata": {},
     "output_type": "execute_result"
    }
   ],
   "source": [
    "np.ones([2,2])"
   ]
  },
  {
   "cell_type": "code",
   "execution_count": 52,
   "metadata": {},
   "outputs": [
    {
     "ename": "TypeError",
     "evalue": "int() argument must be a string, a bytes-like object or a number, not 'list'",
     "output_type": "error",
     "traceback": [
      "\u001b[0;31m---------------------------------------------------------------------------\u001b[0m",
      "\u001b[0;31mTypeError\u001b[0m                                 Traceback (most recent call last)",
      "\u001b[0;32m<ipython-input-52-5a221503f8c4>\u001b[0m in \u001b[0;36m<module>\u001b[0;34m()\u001b[0m\n\u001b[0;32m----> 1\u001b[0;31m \u001b[0mint\u001b[0m\u001b[0;34m(\u001b[0m\u001b[0;34m[\u001b[0m\u001b[0;36m1.0\u001b[0m\u001b[0;34m,\u001b[0m\u001b[0;36m2.0\u001b[0m\u001b[0;34m]\u001b[0m\u001b[0;34m)\u001b[0m\u001b[0;34m\u001b[0m\u001b[0m\n\u001b[0m",
      "\u001b[0;31mTypeError\u001b[0m: int() argument must be a string, a bytes-like object or a number, not 'list'"
     ]
    }
   ],
   "source": [
    "[1.0,2.0]"
   ]
  },
  {
   "cell_type": "code",
   "execution_count": 64,
   "metadata": {},
   "outputs": [
    {
     "name": "stdout",
     "output_type": "stream",
     "text": [
      "[[0 1]\n",
      " [2 3]]\n",
      "[[2 3]\n",
      " [2 3]]\n",
      "0\n",
      "3\n"
     ]
    }
   ],
   "source": [
    "b = np.arange(4).reshape(2,2)\n",
    "print(b)\n",
    "print(b[[(1,1)]])\n",
    "c = [(0,0),(1,1)]\n",
    "for i in range(len(c)):\n",
    "    print(b[c[i]])"
   ]
  },
  {
   "cell_type": "code",
   "execution_count": 54,
   "metadata": {},
   "outputs": [
    {
     "data": {
      "text/plain": [
       "[(1, 15)]"
      ]
     },
     "execution_count": 54,
     "metadata": {},
     "output_type": "execute_result"
    }
   ],
   "source": [
    "list([(1,15)])"
   ]
  },
  {
   "cell_type": "code",
   "execution_count": 6,
   "metadata": {},
   "outputs": [
    {
     "data": {
      "text/plain": [
       "(1, 4, 4)"
      ]
     },
     "execution_count": 6,
     "metadata": {},
     "output_type": "execute_result"
    }
   ],
   "source": [
    "np.shape(np.arange(16).reshape(-1,4,4))"
   ]
  },
  {
   "cell_type": "code",
   "execution_count": 9,
   "metadata": {},
   "outputs": [
    {
     "data": {
      "text/plain": [
       "(1, 4, 4)"
      ]
     },
     "execution_count": 9,
     "metadata": {},
     "output_type": "execute_result"
    }
   ],
   "source": [
    "np.shape([np.arange(16).reshape(4,4)])"
   ]
  },
  {
   "cell_type": "code",
   "execution_count": 12,
   "metadata": {},
   "outputs": [
    {
     "name": "stdout",
     "output_type": "stream",
     "text": [
      "[[ 0  1  2  3]\n",
      " [ 4  5  6  7]\n",
      " [ 8  9 10 11]\n",
      " [12 13 14 15]]\n",
      "(1, 4, 4)\n"
     ]
    }
   ],
   "source": [
    "a = np.arange(16).reshape(4,4)\n",
    "print(a)\n",
    "print(np.shape(a.reshape(-1,4,4)))"
   ]
  },
  {
   "cell_type": "code",
   "execution_count": 13,
   "metadata": {},
   "outputs": [
    {
     "data": {
      "text/plain": [
       "6"
      ]
     },
     "execution_count": 13,
     "metadata": {},
     "output_type": "execute_result"
    }
   ],
   "source": [
    "number_to_actions = {0:\"UP\", 1:\"RIGHT\", 2:\"DOWN\", 3:\"LEFT\", 4:\"BOMB\", 5:\"WAIT\"}\n",
    "len(number_to_actions)"
   ]
  },
  {
   "cell_type": "code",
   "execution_count": 15,
   "metadata": {},
   "outputs": [
    {
     "data": {
      "text/plain": [
       "array([0, 1, 2, 3])"
      ]
     },
     "execution_count": 15,
     "metadata": {},
     "output_type": "execute_result"
    }
   ],
   "source": [
    "np.arange(4)"
   ]
  },
  {
   "cell_type": "code",
   "execution_count": 17,
   "metadata": {},
   "outputs": [
    {
     "data": {
      "text/plain": [
       "array([1, 2])"
      ]
     },
     "execution_count": 17,
     "metadata": {},
     "output_type": "execute_result"
    }
   ],
   "source": [
    "np.subtract([2,3],1)"
   ]
  },
  {
   "cell_type": "code",
   "execution_count": 19,
   "metadata": {},
   "outputs": [
    {
     "data": {
      "text/plain": [
       "3"
      ]
     },
     "execution_count": 19,
     "metadata": {},
     "output_type": "execute_result"
    }
   ],
   "source": [
    "int((7-1)/2)"
   ]
  },
  {
   "cell_type": "code",
   "execution_count": 40,
   "metadata": {},
   "outputs": [
    {
     "name": "stdout",
     "output_type": "stream",
     "text": [
      "[(5, 5), (5, 6), (5, 7), (5, 8), (6, 5), (6, 6), (6, 7), (6, 8), (7, 5), (7, 6), (7, 7), (7, 8), (8, 5), (8, 6), (8, 7), (8, 8)]\n",
      "16\n"
     ]
    }
   ],
   "source": [
    "x,y = 7,7\n",
    "grid_off = 2\n",
    "arena_x, arena_y = np.linspace(0,8,9,dtype=int), np.linspace(0,8,9,dtype=int)\n",
    "proj = [(xi,yi) for xi in arena_x for yi in arena_y if np.any(abs(xi-x)<=grid_off) &  np.any(abs(yi-y)<=grid_off)]\n",
    "print(proj)\n",
    "print(len(proj))"
   ]
  },
  {
   "cell_type": "code",
   "execution_count": 28,
   "metadata": {},
   "outputs": [
    {
     "data": {
      "text/plain": [
       "True"
      ]
     },
     "execution_count": 28,
     "metadata": {},
     "output_type": "execute_result"
    }
   ],
   "source": [
    "5 in arena_x"
   ]
  },
  {
   "cell_type": "code",
   "execution_count": 54,
   "metadata": {},
   "outputs": [
    {
     "name": "stdout",
     "output_type": "stream",
     "text": [
      "[(0, 0), (0, 1), (0, 2), (1, 0), (1, 1), (1, 2), (2, 0), (2, 1), (2, 2)]\n",
      "0\n",
      "1\n",
      "2\n",
      "4\n",
      "5\n",
      "6\n",
      "8\n",
      "9\n",
      "10\n"
     ]
    }
   ],
   "source": [
    "x,y = 0,0\n",
    "arena_x, arena_y = np.linspace(0,6,7,dtype=int), np.linspace(0,6,7,dtype=int)\n",
    "proj = [(xi,yi) for xi in arena_x for yi in arena_y if np.any(abs(xi-x)<=grid_off) &  np.any(abs(yi-y)<=grid_off)]\n",
    "print(proj)\n",
    "a = np.arange(16).reshape(4,4)\n",
    "for (xi,yi) in proj:\n",
    "    print(a[xi,yi])"
   ]
  },
  {
   "cell_type": "code",
   "execution_count": 41,
   "metadata": {},
   "outputs": [
    {
     "data": {
      "text/plain": [
       "array([ 3, -1])"
      ]
     },
     "execution_count": 41,
     "metadata": {},
     "output_type": "execute_result"
    }
   ],
   "source": [
    "np.subtract((4,1),(1,2))"
   ]
  },
  {
   "cell_type": "code",
   "execution_count": 44,
   "metadata": {},
   "outputs": [
    {
     "data": {
      "text/plain": [
       "array([[ 4,  5,  6,  7],\n",
       "       [ 8,  9, 10, 11]])"
      ]
     },
     "execution_count": 44,
     "metadata": {},
     "output_type": "execute_result"
    }
   ],
   "source": [
    "a = np.arange(16).reshape(4,4)\n",
    "a[np.array([1,2])]"
   ]
  },
  {
   "cell_type": "code",
   "execution_count": null,
   "metadata": {},
   "outputs": [],
   "source": []
  }
 ],
 "metadata": {
  "kernelspec": {
   "display_name": "Python 3",
   "language": "python",
   "name": "python3"
  },
  "language_info": {
   "codemirror_mode": {
    "name": "ipython",
    "version": 3
   },
   "file_extension": ".py",
   "mimetype": "text/x-python",
   "name": "python",
   "nbconvert_exporter": "python",
   "pygments_lexer": "ipython3",
   "version": "3.6.5"
  }
 },
 "nbformat": 4,
 "nbformat_minor": 2
}
