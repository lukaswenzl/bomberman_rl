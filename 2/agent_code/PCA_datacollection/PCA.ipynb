{
 "cells": [
  {
   "cell_type": "code",
   "execution_count": 16,
   "metadata": {},
   "outputs": [],
   "source": [
    "import numpy as np\n",
    "import pandas as pd\n",
    "from sklearn.decomposition import PCA\n",
    "\n",
    "import pickle"
   ]
  },
  {
   "cell_type": "code",
   "execution_count": 17,
   "metadata": {},
   "outputs": [],
   "source": [
    "#data = pd.read_csv(\"datacollection.csv\")\n",
    "data = np.genfromtxt('datacollection.csv', delimiter=',')"
   ]
  },
  {
   "cell_type": "code",
   "execution_count": 18,
   "metadata": {},
   "outputs": [
    {
     "data": {
      "text/plain": [
       "PCA(copy=True, iterated_power='auto', n_components=30, random_state=None,\n",
       "  svd_solver='auto', tol=0.0, whiten=False)"
      ]
     },
     "execution_count": 18,
     "metadata": {},
     "output_type": "execute_result"
    }
   ],
   "source": [
    "pca = PCA(n_components=30)\n",
    "pca.fit(data)"
   ]
  },
  {
   "cell_type": "code",
   "execution_count": 19,
   "metadata": {},
   "outputs": [],
   "source": [
    "fitted = pca.transform(data)"
   ]
  },
  {
   "cell_type": "code",
   "execution_count": 20,
   "metadata": {},
   "outputs": [
    {
     "data": {
      "text/plain": [
       "array([[ 1.01808579,  0.01232433, -0.03041012, ...,  0.        ,\n",
       "         0.        ,  0.        ],\n",
       "       [ 0.99443909, -0.13344179,  0.1390027 , ...,  0.        ,\n",
       "         0.        ,  0.        ],\n",
       "       [ 1.01808579,  0.01232433, -0.03041012, ...,  0.        ,\n",
       "         0.        ,  0.        ],\n",
       "       ...,\n",
       "       [ 1.01268445,  0.12596727, -0.13865173, ...,  0.        ,\n",
       "         0.        ,  0.        ],\n",
       "       [ 0.99717958,  0.06576372, -0.0629433 , ...,  0.        ,\n",
       "         0.        ,  0.        ],\n",
       "       [ 1.01659458,  0.04332273, -0.05991731, ...,  0.        ,\n",
       "         0.        ,  0.        ]])"
      ]
     },
     "execution_count": 20,
     "metadata": {},
     "output_type": "execute_result"
    }
   ],
   "source": [
    "pca.inverse_transform(fitted)"
   ]
  },
  {
   "cell_type": "code",
   "execution_count": 21,
   "metadata": {},
   "outputs": [
    {
     "name": "stdout",
     "output_type": "stream",
     "text": [
      "[0.24143225 0.16505283 0.0895014  0.06944706 0.04987682 0.04746023\n",
      " 0.04078557 0.02707188 0.0246071  0.02148259 0.01142443 0.01040626\n",
      " 0.00976048 0.00917881 0.00875418 0.00838624 0.00761061 0.00722685\n",
      " 0.00676246 0.00668994 0.00652079 0.00612741 0.00562537 0.00535609\n",
      " 0.00515479 0.00489416 0.00472303 0.00437913 0.00430471 0.00401092]\n"
     ]
    }
   ],
   "source": [
    "print(pca.explained_variance_ratio_)  "
   ]
  },
  {
   "cell_type": "code",
   "execution_count": 22,
   "metadata": {},
   "outputs": [
    {
     "data": {
      "text/plain": [
       "{'copy': True,\n",
       " 'iterated_power': 'auto',\n",
       " 'n_components': 30,\n",
       " 'random_state': None,\n",
       " 'svd_solver': 'auto',\n",
       " 'tol': 0.0,\n",
       " 'whiten': False}"
      ]
     },
     "execution_count": 22,
     "metadata": {},
     "output_type": "execute_result"
    }
   ],
   "source": [
    "pca.get_params(deep=True)"
   ]
  },
  {
   "cell_type": "code",
   "execution_count": 23,
   "metadata": {},
   "outputs": [
    {
     "name": "stdout",
     "output_type": "stream",
     "text": [
      "[[ 1.01808579  0.01232433 -0.03041012 ...  0.          0.\n",
      "   0.        ]\n",
      " [ 0.99443909 -0.13344179  0.1390027  ...  0.          0.\n",
      "   0.        ]\n",
      " [ 1.01808579  0.01232433 -0.03041012 ...  0.          0.\n",
      "   0.        ]\n",
      " ...\n",
      " [ 1.01268445  0.12596727 -0.13865173 ...  0.          0.\n",
      "   0.        ]\n",
      " [ 0.99717958  0.06576372 -0.0629433  ...  0.          0.\n",
      "   0.        ]\n",
      " [ 1.01659458  0.04332273 -0.05991731 ...  0.          0.\n",
      "   0.        ]]\n"
     ]
    }
   ],
   "source": [
    "filename = 'PCA.save'\n",
    "pickle.dump(pca, open(filename, 'wb'))\n",
    " \n",
    "# some time later...\n",
    " \n",
    "# load the model from disk\n",
    "loaded_model = pickle.load(open(filename, 'rb'))\n",
    "result = loaded_model.inverse_transform(fitted)\n",
    "print(result)"
   ]
  },
  {
   "cell_type": "code",
   "execution_count": 12,
   "metadata": {},
   "outputs": [],
   "source": [
    "###now the full field\n",
    "data_full = np.genfromtxt('datacollection_full_field.csv', delimiter=',', max_rows=5000)"
   ]
  },
  {
   "cell_type": "code",
   "execution_count": 15,
   "metadata": {},
   "outputs": [
    {
     "name": "stdout",
     "output_type": "stream",
     "text": [
      "[0.22053386 0.21017209 0.13299238 0.05639707 0.05328041 0.04490164\n",
      " 0.03448464 0.03127767 0.02709079 0.02263673 0.01514265 0.0107669\n",
      " 0.00988299 0.00961805 0.00913841 0.00853017 0.00827475 0.00810494\n",
      " 0.00791467 0.00748826 0.00650083 0.0056873  0.00538048 0.00523749\n",
      " 0.00485964 0.00472269 0.00462871 0.00448048 0.00423634 0.00410275]\n"
     ]
    }
   ],
   "source": [
    "pca = PCA(n_components=30)\n",
    "pca.fit(data_full)\n",
    "print(pca.explained_variance_ratio_)  \n",
    "\n",
    "filename = 'PCA_full_field.save'\n",
    "pickle.dump(pca, open(filename, 'wb'))"
   ]
  },
  {
   "cell_type": "code",
   "execution_count": 14,
   "metadata": {},
   "outputs": [
    {
     "data": {
      "text/plain": [
       "(5000, 7623)"
      ]
     },
     "execution_count": 14,
     "metadata": {},
     "output_type": "execute_result"
    }
   ],
   "source": []
  },
  {
   "cell_type": "code",
   "execution_count": null,
   "metadata": {},
   "outputs": [],
   "source": []
  }
 ],
 "metadata": {
  "anaconda-cloud": {},
  "kernelspec": {
   "display_name": "Python [default]",
   "language": "python",
   "name": "python3"
  },
  "language_info": {
   "codemirror_mode": {
    "name": "ipython",
    "version": 3
   },
   "file_extension": ".py",
   "mimetype": "text/x-python",
   "name": "python",
   "nbconvert_exporter": "python",
   "pygments_lexer": "ipython3",
   "version": "3.5.2"
  }
 },
 "nbformat": 4,
 "nbformat_minor": 2
}
