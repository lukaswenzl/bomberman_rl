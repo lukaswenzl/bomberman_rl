{
 "cells": [
  {
   "cell_type": "code",
   "execution_count": 1,
   "metadata": {},
   "outputs": [],
   "source": [
    "import numpy as np\n",
    "import pandas as pd"
   ]
  },
  {
   "cell_type": "code",
   "execution_count": null,
   "metadata": {},
   "outputs": [],
   "source": [
    "self.arena = (np.random.rand(s.cols, s.rows) < s.crate_density).astype(int)\n",
    "self.arena[:1, :] = -1\n",
    "self.arena[-1:,:] = -1\n",
    "self.arena[:, :1] = -1\n",
    "self.arena[:,-1:] = -1\n",
    "for x in range(s.cols):\n",
    "    for y in range(s.rows):\n",
    "        if (x+1)*(y+1) % 2 == 1:\n",
    "            self.arena[x,y] = -1"
   ]
  },
  {
   "cell_type": "code",
   "execution_count": null,
   "metadata": {},
   "outputs": [],
   "source": [
    "#arena can contain -1, 0, 1,2,3,4 for -1 blocked, 0 free, 1 has bomb or bomb timer on it\n",
    "\n",
    "#3 2 1 p 1 2 3\n",
    "#-> 7x7 field\n",
    "\n"
   ]
  }
 ],
 "metadata": {
  "anaconda-cloud": {},
  "kernelspec": {
   "display_name": "Python [default]",
   "language": "python",
   "name": "python3"
  },
  "language_info": {
   "codemirror_mode": {
    "name": "ipython",
    "version": 3
   },
   "file_extension": ".py",
   "mimetype": "text/x-python",
   "name": "python",
   "nbconvert_exporter": "python",
   "pygments_lexer": "ipython3",
   "version": "3.5.2"
  }
 },
 "nbformat": 4,
 "nbformat_minor": 2
}
